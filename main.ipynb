{
 "cells": [
  {
   "cell_type": "code",
   "execution_count": 1,
   "metadata": {},
   "outputs": [],
   "source": [
    "from src import geneticAlgo\n",
    "import tqdm"
   ]
  },
  {
   "cell_type": "markdown",
   "metadata": {},
   "source": [
    "### Genetic algorithm"
   ]
  },
  {
   "cell_type": "code",
   "execution_count": 8,
   "metadata": {},
   "outputs": [
    {
     "name": "stdout",
     "output_type": "stream",
     "text": [
      "Outcome test symmetry: Validated.\n"
     ]
    }
   ],
   "source": [
    "size_population = 10000000\n",
    "ratio_breeding = 0.8\n",
    "size_tournament = 1000\n",
    "gene_size = 30\n",
    "\n",
    "algo = geneticAlgo(size_population = size_population, \n",
    "                   ratio_breeding = ratio_breeding, \n",
    "                   size_tournament = size_tournament,\n",
    "                   gene_size = gene_size)"
   ]
  },
  {
   "cell_type": "code",
   "execution_count": null,
   "metadata": {},
   "outputs": [],
   "source": [
    "option = \"random\""
   ]
  },
  {
   "cell_type": "code",
   "execution_count": 9,
   "metadata": {},
   "outputs": [],
   "source": [
    "algo.create_population()\n",
    "\n",
    "for i in tqdm.tqdm(range(10)):\n",
    "    algo.next_gen(option = \"elitist\")\n",
    "\n",
    "ind1 = algo.indicators"
   ]
  },
  {
   "cell_type": "code",
   "execution_count": 4,
   "metadata": {},
   "outputs": [
    {
     "data": {
      "text/plain": [
       "{'best_fitness': [20977.0,\n",
       "  21857.0,\n",
       "  21841.0,\n",
       "  20221.0,\n",
       "  20221.0,\n",
       "  21068.0,\n",
       "  22050.0,\n",
       "  21928.0,\n",
       "  20012.0,\n",
       "  22352.0,\n",
       "  22162.0],\n",
       " 'average_fitness': [39346.140074,\n",
       "  39343.818358,\n",
       "  39339.014429,\n",
       "  39337.977546,\n",
       "  39339.576677,\n",
       "  39336.722031,\n",
       "  39334.607556,\n",
       "  39335.446956,\n",
       "  39334.481617,\n",
       "  39330.704751,\n",
       "  39334.499101],\n",
       " 'diversity': [],\n",
       " 'fitness_variance': [3664.9933913491955,\n",
       "  3660.65734144705,\n",
       "  3665.1735647765463,\n",
       "  3665.3674985853495,\n",
       "  3667.2873431113403,\n",
       "  3668.570766747484,\n",
       "  3669.170993512527,\n",
       "  3673.75626139573,\n",
       "  3668.555963193973,\n",
       "  3667.96670553851,\n",
       "  3669.0755271868125]}"
      ]
     },
     "execution_count": 4,
     "metadata": {},
     "output_type": "execute_result"
    }
   ],
   "source": [
    "ind1"
   ]
  },
  {
   "cell_type": "code",
   "execution_count": 6,
   "metadata": {},
   "outputs": [
    {
     "name": "stderr",
     "output_type": "stream",
     "text": [
      "100%|██████████| 10/10 [00:24<00:00,  2.50s/it]\n"
     ]
    }
   ],
   "source": [
    "algo.create_population()\n",
    "for i in tqdm.tqdm(range(10)):\n",
    "    algo.next_gen(option = \"lottery\")\n",
    "ind2 = algo.indicators"
   ]
  },
  {
   "cell_type": "code",
   "execution_count": 7,
   "metadata": {},
   "outputs": [
    {
     "data": {
      "text/plain": [
       "{'best_fitness': [22749.0,\n",
       "  22738.0,\n",
       "  21565.0,\n",
       "  20004.0,\n",
       "  19808.0,\n",
       "  21026.0,\n",
       "  22140.0,\n",
       "  21503.0,\n",
       "  20864.0,\n",
       "  19024.0,\n",
       "  18941.0],\n",
       " 'average_fitness': [39343.1376,\n",
       "  39197.392246,\n",
       "  39081.355368,\n",
       "  38984.126886,\n",
       "  38902.399914,\n",
       "  38831.676263,\n",
       "  38769.675824,\n",
       "  38719.955064,\n",
       "  38669.145204,\n",
       "  38633.128197,\n",
       "  38599.064932],\n",
       " 'diversity': [],\n",
       " 'fitness_variance': [3669.0258446342727,\n",
       "  3681.0864309867925,\n",
       "  3692.4052656746094,\n",
       "  3697.821292784704,\n",
       "  3706.3961330039724,\n",
       "  3710.533167733359,\n",
       "  3717.8786950698004,\n",
       "  3720.9518636328457,\n",
       "  3721.2326637069873,\n",
       "  3728.1179332953698,\n",
       "  3728.8029634693544]}"
      ]
     },
     "execution_count": 7,
     "metadata": {},
     "output_type": "execute_result"
    }
   ],
   "source": [
    "ind2"
   ]
  },
  {
   "cell_type": "code",
   "execution_count": null,
   "metadata": {},
   "outputs": [],
   "source": [
    "# Comparison to full random"
   ]
  },
  {
   "cell_type": "markdown",
   "metadata": {},
   "source": [
    "### NEXT STEPS\n",
    "- Correct tournament\n",
    "- Compare to more brut force methods (check paper)\n",
    "- Implement TSP2\n",
    "- Improve computing power using cuda (voir)"
   ]
  }
 ],
 "metadata": {
  "kernelspec": {
   "display_name": "base",
   "language": "python",
   "name": "python3"
  },
  "language_info": {
   "codemirror_mode": {
    "name": "ipython",
    "version": 3
   },
   "file_extension": ".py",
   "mimetype": "text/x-python",
   "name": "python",
   "nbconvert_exporter": "python",
   "pygments_lexer": "ipython3",
   "version": "3.12.2"
  }
 },
 "nbformat": 4,
 "nbformat_minor": 2
}
