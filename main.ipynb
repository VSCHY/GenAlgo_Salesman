{
 "cells": [
  {
   "cell_type": "code",
   "execution_count": 1,
   "metadata": {},
   "outputs": [],
   "source": [
    "from src import geneticAlgo, follow_time\n",
    "from src import plot_outcomes\n",
    "import matplotlib.pyplot as plt\n",
    "import tqdm\n",
    "import pickle\n",
    "import numpy as np\n",
    "import pandas as pd"
   ]
  },
  {
   "cell_type": "markdown",
   "metadata": {},
   "source": [
    "### Genetic algorithm"
   ]
  },
  {
   "cell_type": "code",
   "execution_count": 2,
   "metadata": {},
   "outputs": [
    {
     "name": "stdout",
     "output_type": "stream",
     "text": [
      "Outcome test symmetry: Validated.\n"
     ]
    }
   ],
   "source": [
    "size_population = 200000\n",
    "ratio_breeding = 0.7\n",
    "size_tournament = 20000\n",
    "gene_size = 30\n",
    "\n",
    "algo = geneticAlgo(size_population = size_population, \n",
    "                   ratio_breeding = ratio_breeding, \n",
    "                   size_tournament = size_tournament,\n",
    "                   gene_size = gene_size)"
   ]
  },
  {
   "cell_type": "code",
   "execution_count": 3,
   "metadata": {},
   "outputs": [
    {
     "name": "stdout",
     "output_type": "stream",
     "text": [
      "Uniform\n"
     ]
    },
    {
     "name": "stderr",
     "output_type": "stream",
     "text": [
      "100%|██████████| 10/10 [01:11<00:00,  7.14s/it]\n"
     ]
    },
    {
     "name": "stdout",
     "output_type": "stream",
     "text": [
      "Elitist\n"
     ]
    },
    {
     "name": "stderr",
     "output_type": "stream",
     "text": [
      "100%|██████████| 10/10 [01:11<00:00,  7.18s/it]\n"
     ]
    },
    {
     "name": "stdout",
     "output_type": "stream",
     "text": [
      "Lottery\n"
     ]
    },
    {
     "name": "stderr",
     "output_type": "stream",
     "text": [
      "100%|██████████| 10/10 [01:28<00:00,  8.88s/it]\n"
     ]
    },
    {
     "name": "stdout",
     "output_type": "stream",
     "text": [
      "Tournament\n"
     ]
    },
    {
     "name": "stderr",
     "output_type": "stream",
     "text": [
      "100%|██████████| 10/10 [03:32<00:00, 21.20s/it]\n"
     ]
    },
    {
     "name": "stdout",
     "output_type": "stream",
     "text": [
      "Random\n"
     ]
    },
    {
     "name": "stderr",
     "output_type": "stream",
     "text": [
      "100%|██████████| 10/10 [01:45<00:00, 10.53s/it]\n"
     ]
    }
   ],
   "source": [
    "D = {}\n",
    "for option in algo.L_options:\n",
    "    print(option.capitalize())\n",
    "    D[option] = []\n",
    "    for _ in tqdm.tqdm(range(10)):\n",
    "        dt = []\n",
    "        f0 = follow_time()\n",
    "        algo.create_population()\n",
    "        dt.append(f0.update())\n",
    "        for i in range(20):\n",
    "            algo.next_gen(option = option)\n",
    "            dt.append(f0.update())\n",
    "        ind = algo.indicators\n",
    "        ind[\"time\"] = dt\n",
    "\n",
    "        D[option].append(ind)"
   ]
  },
  {
   "cell_type": "code",
   "execution_count": 4,
   "metadata": {},
   "outputs": [],
   "source": [
    "with open('Analysis/output.pickle', 'wb') as handle:\n",
    "    pickle.dump(D, handle, protocol=pickle.HIGHEST_PROTOCOL)"
   ]
  },
  {
   "cell_type": "markdown",
   "metadata": {},
   "source": [
    "### NEXT STEPS\n",
    "- Implement TSP2\n",
    "- Improve computing power using cuda (voir)"
   ]
  },
  {
   "cell_type": "markdown",
   "metadata": {},
   "source": [
    "### Analysis"
   ]
  },
  {
   "cell_type": "code",
   "execution_count": 5,
   "metadata": {},
   "outputs": [],
   "source": [
    "with open('Analysis/output.pickle', 'rb') as f:\n",
    "    D = pickle.load(f)"
   ]
  },
  {
   "cell_type": "code",
   "execution_count": 6,
   "metadata": {},
   "outputs": [],
   "source": [
    "# Figures indicators\n",
    "for name_indicator in ['best_fitness', 'average_fitness', 'fitness_variance']:\n",
    "    fig = plot_outcomes(D, name_indicator)\n",
    "    plt.savefig(f\"Analysis/{name_indicator}.png\", dpi = 300); plt.close()"
   ]
  },
  {
   "cell_type": "code",
   "execution_count": 7,
   "metadata": {},
   "outputs": [],
   "source": [
    "D_t = {}\n",
    "for n, option in enumerate(D.keys()):\n",
    "    out = np.zeros((21,10))\n",
    "\n",
    "    for i, k in enumerate(D[option]):\n",
    "        data = np.array(k[\"time\"])\n",
    "        out[:,i] = data\n",
    "    D_opt = {\"initialization (s.)\":np.mean(out[0,:]), \n",
    "             \"mean new gen. (s.)\":np.mean(out[1:,:]), \n",
    "             \"min new gen. (s.)\":np.min(out[1:,:]), \n",
    "             \"max new gen. (s.)\":np.max(out[1:,:])}    \n",
    "    D_t[option] = D_opt"
   ]
  },
  {
   "cell_type": "code",
   "execution_count": 8,
   "metadata": {},
   "outputs": [
    {
     "data": {
      "text/html": [
       "<div>\n",
       "<style scoped>\n",
       "    .dataframe tbody tr th:only-of-type {\n",
       "        vertical-align: middle;\n",
       "    }\n",
       "\n",
       "    .dataframe tbody tr th {\n",
       "        vertical-align: top;\n",
       "    }\n",
       "\n",
       "    .dataframe thead th {\n",
       "        text-align: right;\n",
       "    }\n",
       "</style>\n",
       "<table border=\"1\" class=\"dataframe\">\n",
       "  <thead>\n",
       "    <tr style=\"text-align: right;\">\n",
       "      <th></th>\n",
       "      <th>uniform</th>\n",
       "      <th>elitist</th>\n",
       "      <th>lottery</th>\n",
       "      <th>tournament</th>\n",
       "      <th>random</th>\n",
       "    </tr>\n",
       "  </thead>\n",
       "  <tbody>\n",
       "    <tr>\n",
       "      <th>initialization (s.)</th>\n",
       "      <td>0.590885</td>\n",
       "      <td>0.507398</td>\n",
       "      <td>0.502761</td>\n",
       "      <td>0.510071</td>\n",
       "      <td>0.502509</td>\n",
       "    </tr>\n",
       "    <tr>\n",
       "      <th>mean new gen. (s.)</th>\n",
       "      <td>0.327331</td>\n",
       "      <td>0.333353</td>\n",
       "      <td>0.418885</td>\n",
       "      <td>1.034592</td>\n",
       "      <td>0.501101</td>\n",
       "    </tr>\n",
       "    <tr>\n",
       "      <th>min new gen. (s.)</th>\n",
       "      <td>0.286640</td>\n",
       "      <td>0.324886</td>\n",
       "      <td>0.412559</td>\n",
       "      <td>1.006553</td>\n",
       "      <td>0.493928</td>\n",
       "    </tr>\n",
       "    <tr>\n",
       "      <th>max new gen. (s.)</th>\n",
       "      <td>3.772464</td>\n",
       "      <td>1.552751</td>\n",
       "      <td>0.446900</td>\n",
       "      <td>2.801758</td>\n",
       "      <td>0.528330</td>\n",
       "    </tr>\n",
       "  </tbody>\n",
       "</table>\n",
       "</div>"
      ],
      "text/plain": [
       "                      uniform   elitist   lottery  tournament    random\n",
       "initialization (s.)  0.590885  0.507398  0.502761    0.510071  0.502509\n",
       "mean new gen. (s.)   0.327331  0.333353  0.418885    1.034592  0.501101\n",
       "min new gen. (s.)    0.286640  0.324886  0.412559    1.006553  0.493928\n",
       "max new gen. (s.)    3.772464  1.552751  0.446900    2.801758  0.528330"
      ]
     },
     "metadata": {},
     "output_type": "display_data"
    }
   ],
   "source": [
    "df_time = pd.DataFrame.from_dict(D_t)\n",
    "display(df_time)"
   ]
  }
 ],
 "metadata": {
  "kernelspec": {
   "display_name": "base",
   "language": "python",
   "name": "python3"
  },
  "language_info": {
   "codemirror_mode": {
    "name": "ipython",
    "version": 3
   },
   "file_extension": ".py",
   "mimetype": "text/x-python",
   "name": "python",
   "nbconvert_exporter": "python",
   "pygments_lexer": "ipython3",
   "version": "3.12.2"
  }
 },
 "nbformat": 4,
 "nbformat_minor": 2
}
